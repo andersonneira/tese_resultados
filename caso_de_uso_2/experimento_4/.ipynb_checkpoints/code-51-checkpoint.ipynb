{
 "cells": [
  {
   "cell_type": "markdown",
   "id": "4e3c91ac",
   "metadata": {
    "id": "4e3c91ac"
   },
   "source": [
    "#Importação de bibliotecas e funções"
   ]
  },
  {
   "cell_type": "code",
   "execution_count": 1,
   "id": "bno-wuuaqwpX",
   "metadata": {
    "id": "bno-wuuaqwpX"
   },
   "outputs": [
    {
     "name": "stderr",
     "output_type": "stream",
     "text": [
      "/usr/lib/python3/dist-packages/scipy/__init__.py:146: UserWarning: A NumPy version >=1.17.3 and <1.25.0 is required for this version of SciPy (detected version 1.26.1\n",
      "  warnings.warn(f\"A NumPy version >={np_minversion} and <{np_maxversion}\"\n"
     ]
    }
   ],
   "source": [
    "from sklearn.svm import OneClassSVM\n",
    "from sklearn.metrics import confusion_matrix\n",
    "import pandas as pd\n",
    "from matplotlib import pyplot as plt\n",
    "from sklearn.metrics import classification_report"
   ]
  },
  {
   "cell_type": "markdown",
   "id": "b0Ggsa7prLRL",
   "metadata": {
    "id": "b0Ggsa7prLRL"
   },
   "source": [
    "#Experimento 1 - CTU-13 (Captura 51)"
   ]
  },
  {
   "cell_type": "code",
   "execution_count": 2,
   "id": "803332aa",
   "metadata": {},
   "outputs": [
    {
     "name": "stdout",
     "output_type": "stream",
     "text": [
      "[[2614   69]\n",
      " [  13    2]]\n",
      "              precision    recall  f1-score   support\n",
      "\n",
      "           0     0.9951    0.9743    0.9846      2683\n",
      "           1     0.0282    0.1333    0.0465        15\n",
      "\n",
      "    accuracy                         0.9696      2698\n",
      "   macro avg     0.5116    0.5538    0.5155      2698\n",
      "weighted avg     0.9897    0.9696    0.9793      2698\n",
      "\n"
     ]
    }
   ],
   "source": [
    "early_warning_url = \"cap_51_outlier_10.csv\"\n",
    "early_warning = pd.read_csv(early_warning_url, sep=\";\")\n",
    "file = \"10\"\n",
    "colunas = [file+'_kurt_total_ips_origem',\n",
    "           file+'_skw_total_ips_origem',\n",
    "           file+'_coefficient_variation_total_ips_origem',\n",
    "           file+'_kurt_total_ips_destino',\n",
    "           file+'_skw_total_ips_destino',\n",
    "           file+'_coefficient_variation_total_ips_destino',\n",
    "           file+'_kurt_total_pacotes',\n",
    "           file+'_skw_total_pacotes',\n",
    "           file+'_coefficient_variation_total_pacotes',\n",
    "              ]\n",
    "df = early_warning[colunas]\n",
    "label = pd.read_csv('ctulabel.csv')['maior_2']\n",
    "\n",
    "init = 880\n",
    "train = 2934\n",
    "end = 5632\n",
    "\n",
    "x_train = df[init:train]\n",
    "x_test = df[train:end]\n",
    "y_real = label[train:end]\n",
    "clf = OneClassSVM(gamma='auto', kernel='poly', nu=0.34).fit(x_train)\n",
    "y_test = clf.predict(x_test)\n",
    "y_test_final = [0 if i == 1 else 1 for i in y_test]\n",
    "print(confusion_matrix(y_real, y_test_final))\n",
    "print(classification_report(y_real, y_test_final, digits = 4))"
   ]
  }
 ],
 "metadata": {
  "colab": {
   "provenance": []
  },
  "kernelspec": {
   "display_name": "Python 3 (ipykernel)",
   "language": "python",
   "name": "python3"
  },
  "language_info": {
   "codemirror_mode": {
    "name": "ipython",
    "version": 3
   },
   "file_extension": ".py",
   "mimetype": "text/x-python",
   "name": "python",
   "nbconvert_exporter": "python",
   "pygments_lexer": "ipython3",
   "version": "3.10.12"
  }
 },
 "nbformat": 4,
 "nbformat_minor": 5
}
