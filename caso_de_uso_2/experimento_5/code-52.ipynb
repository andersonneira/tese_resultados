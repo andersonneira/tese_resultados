{
 "cells": [
  {
   "cell_type": "markdown",
   "id": "4e3c91ac",
   "metadata": {
    "id": "4e3c91ac"
   },
   "source": [
    "#Importação de bibliotecas e funções"
   ]
  },
  {
   "cell_type": "code",
   "execution_count": null,
   "id": "bno-wuuaqwpX",
   "metadata": {
    "id": "bno-wuuaqwpX"
   },
   "outputs": [],
   "source": [
    "from sklearn.svm import OneClassSVM\n",
    "from sklearn.metrics import confusion_matrix\n",
    "import pandas as pd\n",
    "from matplotlib import pyplot as plt\n",
    "from sklearn.metrics import classification_report"
   ]
  },
  {
   "cell_type": "markdown",
   "id": "b0Ggsa7prLRL",
   "metadata": {
    "id": "b0Ggsa7prLRL"
   },
   "source": [
    "#Experimento 5 - CTU-13 (Captura 52)"
   ]
  },
  {
   "cell_type": "code",
   "execution_count": null,
   "id": "5ee2cc20",
   "metadata": {
    "colab": {
     "base_uri": "https://localhost:8080/"
    },
    "id": "5ee2cc20",
    "outputId": "e1b8459f-61e0-401b-8d99-02281cb89ef7"
   },
   "outputs": [],
   "source": [
    "early_warning_url = \"cap_52_outlier_10.csv\"\n",
    "early_warning = pd.read_csv(early_warning_url, sep=\";\")\n",
    "file = \"10\"\n",
    "colunas = [file+'_kurt_total_ips_origem', \n",
    "           file+'_skw_total_ips_origem',\n",
    "           file+'_coefficient_variation_total_ips_origem',\n",
    "           file+'_kurt_total_ips_destino', \n",
    "           file+'_skw_total_ips_destino', \n",
    "           file+'_coefficient_variation_total_ips_destino', \n",
    "           file+'_kurt_total_pacotes',\n",
    "           file+'_skw_total_pacotes',           \n",
    "           file+'_coefficient_variation_total_pacotes']\n",
    "\n",
    "df = early_warning[colunas]\n",
    "\n",
    "label = pd.read_csv('ctulabel.csv')['maior_2']\n",
    "\n",
    "init = 97\n",
    "train = 324\n",
    "end = 778\n",
    "x_train = df[init:train]\n",
    "x_test = df[train:end]\n",
    "y_real = label[train:end]\n",
    "\n",
    "clf = OneClassSVM(gamma='auto',kernel='linear', nu = 0.035).fit(x_train)\n",
    "\n",
    "y_test = clf.predict(x_test)\n",
    "y_test_final = [0 if i == 1 else 1 for i in y_test]\n",
    "print(confusion_matrix(y_real, y_test_final))\n",
    "print(classification_report(y_real, y_test_final, digits = 4))"
   ]
  }
 ],
 "metadata": {
  "colab": {
   "provenance": []
  },
  "kernelspec": {
   "display_name": "Python 3 (ipykernel)",
   "language": "python",
   "name": "python3"
  },
  "language_info": {
   "codemirror_mode": {
    "name": "ipython",
    "version": 3
   },
   "file_extension": ".py",
   "mimetype": "text/x-python",
   "name": "python",
   "nbconvert_exporter": "python",
   "pygments_lexer": "ipython3",
   "version": "3.10.12"
  }
 },
 "nbformat": 4,
 "nbformat_minor": 5
}
