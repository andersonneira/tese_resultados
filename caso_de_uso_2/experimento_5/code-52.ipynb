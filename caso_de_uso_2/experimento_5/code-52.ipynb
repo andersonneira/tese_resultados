{
 "cells": [
  {
   "cell_type": "markdown",
   "id": "4e3c91ac",
   "metadata": {
    "id": "4e3c91ac"
   },
   "source": [
    "#Importação de bibliotecas e funções"
   ]
  },
  {
   "cell_type": "code",
   "execution_count": 1,
   "id": "bno-wuuaqwpX",
   "metadata": {
    "id": "bno-wuuaqwpX"
   },
   "outputs": [
    {
     "name": "stderr",
     "output_type": "stream",
     "text": [
      "/usr/lib/python3/dist-packages/scipy/__init__.py:146: UserWarning: A NumPy version >=1.17.3 and <1.25.0 is required for this version of SciPy (detected version 1.26.2\n",
      "  warnings.warn(f\"A NumPy version >={np_minversion} and <{np_maxversion}\"\n"
     ]
    }
   ],
   "source": [
    "from sklearn.svm import OneClassSVM\n",
    "from sklearn.metrics import confusion_matrix\n",
    "import pandas as pd\n",
    "from matplotlib import pyplot as plt\n",
    "from sklearn.metrics import classification_report"
   ]
  },
  {
   "cell_type": "markdown",
   "id": "b0Ggsa7prLRL",
   "metadata": {
    "id": "b0Ggsa7prLRL"
   },
   "source": [
    "#Experimento 5 - CTU-13 (Captura 52)"
   ]
  },
  {
   "cell_type": "code",
   "execution_count": 2,
   "id": "5ee2cc20",
   "metadata": {
    "colab": {
     "base_uri": "https://localhost:8080/"
    },
    "id": "5ee2cc20",
    "outputId": "e1b8459f-61e0-401b-8d99-02281cb89ef7"
   },
   "outputs": [
    {
     "name": "stdout",
     "output_type": "stream",
     "text": [
      "[[422  19]\n",
      " [ 10   3]]\n",
      "              precision    recall  f1-score   support\n",
      "\n",
      "           0     0.9769    0.9569    0.9668       441\n",
      "           1     0.1364    0.2308    0.1714        13\n",
      "\n",
      "    accuracy                         0.9361       454\n",
      "   macro avg     0.5566    0.5938    0.5691       454\n",
      "weighted avg     0.9528    0.9361    0.9440       454\n",
      "\n"
     ]
    }
   ],
   "source": [
    "early_warning_url = \"cap_52_outlier_10.csv\"\n",
    "early_warning = pd.read_csv(early_warning_url, sep=\";\")\n",
    "file = \"10\"\n",
    "colunas = [file+'_kurt_total_ips_origem', \n",
    "           file+'_skw_total_ips_origem',\n",
    "           file+'_coefficient_variation_total_ips_origem',\n",
    "           file+'_kurt_total_ips_destino', \n",
    "           file+'_skw_total_ips_destino', \n",
    "           file+'_coefficient_variation_total_ips_destino', \n",
    "           file+'_kurt_total_pacotes',\n",
    "           file+'_skw_total_pacotes',           \n",
    "           file+'_coefficient_variation_total_pacotes']\n",
    "\n",
    "df = early_warning[colunas]\n",
    "\n",
    "label = pd.read_csv('ctulabel.csv')['maior_2']\n",
    "\n",
    "init = 97\n",
    "train = 324\n",
    "end = 778\n",
    "x_train = df[init:train]\n",
    "x_test = df[train:end]\n",
    "y_real = label[train:end]\n",
    "\n",
    "clf = OneClassSVM(gamma='auto',kernel='linear', nu = 0.035).fit(x_train)\n",
    "\n",
    "y_test = clf.predict(x_test)\n",
    "y_test_final = [0 if i == 1 else 1 for i in y_test]\n",
    "print(confusion_matrix(y_real, y_test_final))\n",
    "print(classification_report(y_real, y_test_final, digits = 4))"
   ]
  }
 ],
 "metadata": {
  "colab": {
   "provenance": []
  },
  "kernelspec": {
   "display_name": "Python 3 (ipykernel)",
   "language": "python",
   "name": "python3"
  },
  "language_info": {
   "codemirror_mode": {
    "name": "ipython",
    "version": 3
   },
   "file_extension": ".py",
   "mimetype": "text/x-python",
   "name": "python",
   "nbconvert_exporter": "python",
   "pygments_lexer": "ipython3",
   "version": "3.10.12"
  }
 },
 "nbformat": 4,
 "nbformat_minor": 5
}
