{
 "cells": [
  {
   "cell_type": "markdown",
   "metadata": {
    "id": "ZSMaGCvdzKgZ"
   },
   "source": [
    "### PREPARATION"
   ]
  },
  {
   "cell_type": "code",
   "execution_count": 1,
   "metadata": {
    "id": "FF9I6_jmqqeo"
   },
   "outputs": [
    {
     "name": "stdout",
     "output_type": "stream",
     "text": [
      "Defaulting to user installation because normal site-packages is not writeable\n",
      "Requirement already satisfied: autokeras in /home/anderson/.local/lib/python3.10/site-packages (1.1.0)\n",
      "Requirement already satisfied: tensorflow>=2.8.0 in /home/anderson/.local/lib/python3.10/site-packages (from autokeras) (2.14.0)\n",
      "Requirement already satisfied: pandas in /home/anderson/.local/lib/python3.10/site-packages (from autokeras) (1.5.3)\n",
      "Requirement already satisfied: keras-tuner>=1.1.0 in /home/anderson/.local/lib/python3.10/site-packages (from autokeras) (1.4.5)\n",
      "Requirement already satisfied: packaging in /usr/lib/python3/dist-packages (from autokeras) (21.3)\n",
      "Requirement already satisfied: keras-nlp>=0.4.0 in /home/anderson/.local/lib/python3.10/site-packages (from autokeras) (0.6.2)\n",
      "Requirement already satisfied: dm-tree in /home/anderson/.local/lib/python3.10/site-packages (from keras-nlp>=0.4.0->autokeras) (0.1.8)\n",
      "Requirement already satisfied: tensorflow-text in /home/anderson/.local/lib/python3.10/site-packages (from keras-nlp>=0.4.0->autokeras) (2.14.0)\n",
      "Requirement already satisfied: keras-core in /home/anderson/.local/lib/python3.10/site-packages (from keras-nlp>=0.4.0->autokeras) (0.1.7)\n",
      "Requirement already satisfied: numpy in /home/anderson/.local/lib/python3.10/site-packages (from keras-nlp>=0.4.0->autokeras) (1.26.1)\n",
      "Requirement already satisfied: absl-py in /home/anderson/.local/lib/python3.10/site-packages (from keras-nlp>=0.4.0->autokeras) (2.0.0)\n",
      "Requirement already satisfied: rich in /home/anderson/.local/lib/python3.10/site-packages (from keras-nlp>=0.4.0->autokeras) (13.6.0)\n",
      "Requirement already satisfied: regex in /home/anderson/.local/lib/python3.10/site-packages (from keras-nlp>=0.4.0->autokeras) (2023.10.3)\n",
      "Requirement already satisfied: requests in /usr/lib/python3/dist-packages (from keras-tuner>=1.1.0->autokeras) (2.25.1)\n",
      "Requirement already satisfied: kt-legacy in /home/anderson/.local/lib/python3.10/site-packages (from keras-tuner>=1.1.0->autokeras) (1.0.5)\n",
      "Requirement already satisfied: six>=1.12.0 in /usr/lib/python3/dist-packages (from tensorflow>=2.8.0->autokeras) (1.16.0)\n",
      "Requirement already satisfied: keras<2.15,>=2.14.0 in /home/anderson/.local/lib/python3.10/site-packages (from tensorflow>=2.8.0->autokeras) (2.14.0)\n",
      "Requirement already satisfied: flatbuffers>=23.5.26 in /home/anderson/.local/lib/python3.10/site-packages (from tensorflow>=2.8.0->autokeras) (23.5.26)\n",
      "Requirement already satisfied: astunparse>=1.6.0 in /home/anderson/.local/lib/python3.10/site-packages (from tensorflow>=2.8.0->autokeras) (1.6.3)\n",
      "Requirement already satisfied: protobuf!=4.21.0,!=4.21.1,!=4.21.2,!=4.21.3,!=4.21.4,!=4.21.5,<5.0.0dev,>=3.20.3 in /home/anderson/.local/lib/python3.10/site-packages (from tensorflow>=2.8.0->autokeras) (4.24.3)\n",
      "Requirement already satisfied: tensorflow-io-gcs-filesystem>=0.23.1 in /home/anderson/.local/lib/python3.10/site-packages (from tensorflow>=2.8.0->autokeras) (0.34.0)\n",
      "Requirement already satisfied: h5py>=2.9.0 in /home/anderson/.local/lib/python3.10/site-packages (from tensorflow>=2.8.0->autokeras) (3.10.0)\n",
      "Requirement already satisfied: setuptools in /usr/lib/python3/dist-packages (from tensorflow>=2.8.0->autokeras) (59.6.0)\n",
      "Requirement already satisfied: libclang>=13.0.0 in /home/anderson/.local/lib/python3.10/site-packages (from tensorflow>=2.8.0->autokeras) (16.0.6)\n",
      "Requirement already satisfied: tensorboard<2.15,>=2.14 in /home/anderson/.local/lib/python3.10/site-packages (from tensorflow>=2.8.0->autokeras) (2.14.1)\n",
      "Requirement already satisfied: google-pasta>=0.1.1 in /home/anderson/.local/lib/python3.10/site-packages (from tensorflow>=2.8.0->autokeras) (0.2.0)\n",
      "Requirement already satisfied: tensorflow-estimator<2.15,>=2.14.0 in /home/anderson/.local/lib/python3.10/site-packages (from tensorflow>=2.8.0->autokeras) (2.14.0)\n",
      "Requirement already satisfied: opt-einsum>=2.3.2 in /home/anderson/.local/lib/python3.10/site-packages (from tensorflow>=2.8.0->autokeras) (3.3.0)\n",
      "Requirement already satisfied: ml-dtypes==0.2.0 in /home/anderson/.local/lib/python3.10/site-packages (from tensorflow>=2.8.0->autokeras) (0.2.0)\n",
      "Requirement already satisfied: wrapt<1.15,>=1.11.0 in /home/anderson/.local/lib/python3.10/site-packages (from tensorflow>=2.8.0->autokeras) (1.14.1)\n",
      "Requirement already satisfied: gast!=0.5.0,!=0.5.1,!=0.5.2,>=0.2.1 in /home/anderson/.local/lib/python3.10/site-packages (from tensorflow>=2.8.0->autokeras) (0.5.4)\n",
      "Requirement already satisfied: typing-extensions>=3.6.6 in /home/anderson/.local/lib/python3.10/site-packages (from tensorflow>=2.8.0->autokeras) (4.5.0)\n",
      "Requirement already satisfied: termcolor>=1.1.0 in /home/anderson/.local/lib/python3.10/site-packages (from tensorflow>=2.8.0->autokeras) (2.3.0)\n",
      "Requirement already satisfied: grpcio<2.0,>=1.24.3 in /home/anderson/.local/lib/python3.10/site-packages (from tensorflow>=2.8.0->autokeras) (1.54.2)\n",
      "Requirement already satisfied: pytz>=2020.1 in /usr/lib/python3/dist-packages (from pandas->autokeras) (2022.1)\n",
      "Requirement already satisfied: python-dateutil>=2.8.1 in /usr/lib/python3/dist-packages (from pandas->autokeras) (2.8.1)\n",
      "Requirement already satisfied: wheel<1.0,>=0.23.0 in /usr/lib/python3/dist-packages (from astunparse>=1.6.0->tensorflow>=2.8.0->autokeras) (0.37.1)\n",
      "Requirement already satisfied: tensorboard-data-server<0.8.0,>=0.7.0 in /home/anderson/.local/lib/python3.10/site-packages (from tensorboard<2.15,>=2.14->tensorflow>=2.8.0->autokeras) (0.7.2)\n",
      "Requirement already satisfied: markdown>=2.6.8 in /home/anderson/.local/lib/python3.10/site-packages (from tensorboard<2.15,>=2.14->tensorflow>=2.8.0->autokeras) (3.5)\n",
      "Requirement already satisfied: werkzeug>=1.0.1 in /home/anderson/.local/lib/python3.10/site-packages (from tensorboard<2.15,>=2.14->tensorflow>=2.8.0->autokeras) (3.0.1)\n",
      "Requirement already satisfied: google-auth-oauthlib<1.1,>=0.5 in /home/anderson/.local/lib/python3.10/site-packages (from tensorboard<2.15,>=2.14->tensorflow>=2.8.0->autokeras) (1.0.0)\n",
      "Requirement already satisfied: google-auth<3,>=1.6.3 in /home/anderson/.local/lib/python3.10/site-packages (from tensorboard<2.15,>=2.14->tensorflow>=2.8.0->autokeras) (2.23.3)\n",
      "Requirement already satisfied: namex in /home/anderson/.local/lib/python3.10/site-packages (from keras-core->keras-nlp>=0.4.0->autokeras) (0.0.7)\n",
      "Requirement already satisfied: markdown-it-py>=2.2.0 in /home/anderson/.local/lib/python3.10/site-packages (from rich->keras-nlp>=0.4.0->autokeras) (3.0.0)\n",
      "Requirement already satisfied: pygments<3.0.0,>=2.13.0 in /home/anderson/.local/lib/python3.10/site-packages (from rich->keras-nlp>=0.4.0->autokeras) (2.16.1)\n",
      "Requirement already satisfied: tensorflow-hub>=0.13.0 in /home/anderson/.local/lib/python3.10/site-packages (from tensorflow-text->keras-nlp>=0.4.0->autokeras) (0.15.0)\n",
      "Requirement already satisfied: rsa<5,>=3.1.4 in /home/anderson/.local/lib/python3.10/site-packages (from google-auth<3,>=1.6.3->tensorboard<2.15,>=2.14->tensorflow>=2.8.0->autokeras) (4.9)\n",
      "Requirement already satisfied: cachetools<6.0,>=2.0.0 in /home/anderson/.local/lib/python3.10/site-packages (from google-auth<3,>=1.6.3->tensorboard<2.15,>=2.14->tensorflow>=2.8.0->autokeras) (5.3.2)\n",
      "Requirement already satisfied: pyasn1-modules>=0.2.1 in /home/anderson/.local/lib/python3.10/site-packages (from google-auth<3,>=1.6.3->tensorboard<2.15,>=2.14->tensorflow>=2.8.0->autokeras) (0.3.0)\n",
      "Requirement already satisfied: requests-oauthlib>=0.7.0 in /home/anderson/.local/lib/python3.10/site-packages (from google-auth-oauthlib<1.1,>=0.5->tensorboard<2.15,>=2.14->tensorflow>=2.8.0->autokeras) (1.3.1)\n",
      "Requirement already satisfied: mdurl~=0.1 in /home/anderson/.local/lib/python3.10/site-packages (from markdown-it-py>=2.2.0->rich->keras-nlp>=0.4.0->autokeras) (0.1.2)\n",
      "Requirement already satisfied: MarkupSafe>=2.1.1 in /home/anderson/.local/lib/python3.10/site-packages (from werkzeug>=1.0.1->tensorboard<2.15,>=2.14->tensorflow>=2.8.0->autokeras) (2.1.3)\n",
      "Requirement already satisfied: pyasn1<0.6.0,>=0.4.6 in /home/anderson/.local/lib/python3.10/site-packages (from pyasn1-modules>=0.2.1->google-auth<3,>=1.6.3->tensorboard<2.15,>=2.14->tensorflow>=2.8.0->autokeras) (0.5.0)\n",
      "Requirement already satisfied: oauthlib>=3.0.0 in /usr/lib/python3/dist-packages (from requests-oauthlib>=0.7.0->google-auth-oauthlib<1.1,>=0.5->tensorboard<2.15,>=2.14->tensorflow>=2.8.0->autokeras) (3.2.0)\n"
     ]
    },
    {
     "name": "stdout",
     "output_type": "stream",
     "text": [
      "Defaulting to user installation because normal site-packages is not writeable\n",
      "Requirement already satisfied: tensorflow_addons in /home/anderson/.local/lib/python3.10/site-packages (0.22.0)\n",
      "Requirement already satisfied: typeguard<3.0.0,>=2.7 in /home/anderson/.local/lib/python3.10/site-packages (from tensorflow_addons) (2.13.3)\n",
      "Requirement already satisfied: packaging in /usr/lib/python3/dist-packages (from tensorflow_addons) (21.3)\n"
     ]
    }
   ],
   "source": [
    "!pip install autokeras\n",
    "!pip install tensorflow_addons"
   ]
  },
  {
   "cell_type": "code",
   "execution_count": 2,
   "metadata": {
    "id": "RCC_8kPMQadf"
   },
   "outputs": [
    {
     "name": "stderr",
     "output_type": "stream",
     "text": [
      "/usr/lib/python3/dist-packages/scipy/__init__.py:146: UserWarning: A NumPy version >=1.17.3 and <1.25.0 is required for this version of SciPy (detected version 1.26.1\n",
      "  warnings.warn(f\"A NumPy version >={np_minversion} and <{np_maxversion}\"\n",
      "2023-11-02 09:45:22.323300: I tensorflow/tsl/cuda/cudart_stub.cc:28] Could not find cuda drivers on your machine, GPU will not be used.\n",
      "2023-11-02 09:45:22.365525: E tensorflow/compiler/xla/stream_executor/cuda/cuda_dnn.cc:9342] Unable to register cuDNN factory: Attempting to register factory for plugin cuDNN when one has already been registered\n",
      "2023-11-02 09:45:22.365563: E tensorflow/compiler/xla/stream_executor/cuda/cuda_fft.cc:609] Unable to register cuFFT factory: Attempting to register factory for plugin cuFFT when one has already been registered\n",
      "2023-11-02 09:45:22.365592: E tensorflow/compiler/xla/stream_executor/cuda/cuda_blas.cc:1518] Unable to register cuBLAS factory: Attempting to register factory for plugin cuBLAS when one has already been registered\n",
      "2023-11-02 09:45:22.373046: I tensorflow/tsl/cuda/cudart_stub.cc:28] Could not find cuda drivers on your machine, GPU will not be used.\n",
      "2023-11-02 09:45:25.200116: W tensorflow/compiler/tf2tensorrt/utils/py_utils.cc:38] TF-TRT Warning: Could not find TensorRT\n"
     ]
    },
    {
     "name": "stdout",
     "output_type": "stream",
     "text": [
      "Using TensorFlow backend\n"
     ]
    }
   ],
   "source": [
    "import pandas as pd\n",
    "import matplotlib.pyplot as plt\n",
    "import seaborn as sns\n",
    "import numpy as np\n",
    "from sklearn.metrics import confusion_matrix\n",
    "from sklearn.metrics import classification_report\n",
    "from tensorflow import keras\n",
    "from tensorflow.keras import layers\n",
    "import tensorflow as tf\n",
    "import autokeras as ak"
   ]
  },
  {
   "cell_type": "code",
   "execution_count": 3,
   "metadata": {
    "id": "TX-RU1Ti7HiE"
   },
   "outputs": [],
   "source": [
    "DATA_PATH = \"data/ctudata.csv\"\n",
    "LABEL_PATH = \"data/ctulabel.csv\"\n",
    "\n",
    "early_warning = pd.read_csv(DATA_PATH)\n",
    "rotulos = pd.read_csv(LABEL_PATH)\n",
    "\n",
    "init = 441\n",
    "train = 2642\n",
    "test = 5632\n",
    "cols = [\"5_kurt_total_ips_origem\", \n",
    "        \"5_skw_total_ips_destino\", \n",
    "        \"5_voefficient_variation_total_pacotes\"]"
   ]
  },
  {
   "cell_type": "code",
   "execution_count": 4,
   "metadata": {
    "id": "gul5UeaV-f89"
   },
   "outputs": [],
   "source": [
    "x_train = early_warning[cols][init:train]\n",
    "y_train = rotulos['maior_2'][init:train]\n",
    "\n",
    "x_test = early_warning[cols][train:test]\n",
    "y_test = rotulos['maior_2'][train:test]\n",
    "\n",
    "x_train = x_train.fillna(-1)\n",
    "x_test = x_test.fillna(-1)"
   ]
  },
  {
   "cell_type": "markdown",
   "metadata": {
    "id": "xUZLzoiYAjGr"
   },
   "source": [
    "### LOAD MODEL"
   ]
  },
  {
   "cell_type": "code",
   "execution_count": 5,
   "metadata": {
    "id": "aXD1mpZP7Bm3"
   },
   "outputs": [
    {
     "name": "stderr",
     "output_type": "stream",
     "text": [
      "2023-11-02 09:45:35.073482: I tensorflow/compiler/xla/stream_executor/cuda/cuda_gpu_executor.cc:894] successful NUMA node read from SysFS had negative value (-1), but there must be at least one NUMA node, so returning NUMA node zero. See more at https://github.com/torvalds/linux/blob/v6.0/Documentation/ABI/testing/sysfs-bus-pci#L344-L355\n",
      "2023-11-02 09:45:35.074926: W tensorflow/core/common_runtime/gpu/gpu_device.cc:2211] Cannot dlopen some GPU libraries. Please make sure the missing libraries mentioned above are installed properly if you would like to use GPU. Follow the guide at https://www.tensorflow.org/install/gpu for how to download and setup the required libraries for your platform.\n",
      "Skipping registering GPU devices...\n"
     ]
    }
   ],
   "source": [
    "from tensorflow.keras.models import load_model\n",
    "MODEL_PATH = \"models/ctumodel\"\n",
    "loaded_model = load_model(MODEL_PATH, custom_objects=ak.CUSTOM_OBJECTS, compile=False)\n",
    "#keras.utils.plot_model(loaded_model, show_shapes=True)"
   ]
  },
  {
   "cell_type": "markdown",
   "metadata": {
    "id": "I7-7LP6F8Kr0"
   },
   "source": [
    "### RECONSTRUCTION"
   ]
  },
  {
   "cell_type": "code",
   "execution_count": 6,
   "metadata": {
    "colab": {
     "base_uri": "https://localhost:8080/",
     "height": 441
    },
    "id": "zT0fhoM18PW6",
    "outputId": "0600f179-de58-4c45-c0b3-6d26b5614d09"
   },
   "outputs": [
    {
     "name": "stdout",
     "output_type": "stream",
     "text": [
      "69/69 [==============================] - 4s 5ms/step\n"
     ]
    },
    {
     "data": {
      "text/html": [
       "<div>\n",
       "<style scoped>\n",
       "    .dataframe tbody tr th:only-of-type {\n",
       "        vertical-align: middle;\n",
       "    }\n",
       "\n",
       "    .dataframe tbody tr th {\n",
       "        vertical-align: top;\n",
       "    }\n",
       "\n",
       "    .dataframe thead th {\n",
       "        text-align: right;\n",
       "    }\n",
       "</style>\n",
       "<table border=\"1\" class=\"dataframe\">\n",
       "  <thead>\n",
       "    <tr style=\"text-align: right;\">\n",
       "      <th></th>\n",
       "      <th>5_kurt_total_ips_origem</th>\n",
       "      <th>5_skw_total_ips_destino</th>\n",
       "      <th>5_voefficient_variation_total_pacotes</th>\n",
       "    </tr>\n",
       "  </thead>\n",
       "  <tbody>\n",
       "    <tr>\n",
       "      <th>441</th>\n",
       "      <td>0.372685</td>\n",
       "      <td>0.593216</td>\n",
       "      <td>0.439798</td>\n",
       "    </tr>\n",
       "    <tr>\n",
       "      <th>442</th>\n",
       "      <td>0.378977</td>\n",
       "      <td>0.594587</td>\n",
       "      <td>0.439207</td>\n",
       "    </tr>\n",
       "    <tr>\n",
       "      <th>443</th>\n",
       "      <td>0.372892</td>\n",
       "      <td>0.593261</td>\n",
       "      <td>0.439778</td>\n",
       "    </tr>\n",
       "    <tr>\n",
       "      <th>444</th>\n",
       "      <td>0.379147</td>\n",
       "      <td>0.594624</td>\n",
       "      <td>0.439191</td>\n",
       "    </tr>\n",
       "    <tr>\n",
       "      <th>445</th>\n",
       "      <td>0.376692</td>\n",
       "      <td>0.594089</td>\n",
       "      <td>0.439421</td>\n",
       "    </tr>\n",
       "    <tr>\n",
       "      <th>...</th>\n",
       "      <td>...</td>\n",
       "      <td>...</td>\n",
       "      <td>...</td>\n",
       "    </tr>\n",
       "    <tr>\n",
       "      <th>2637</th>\n",
       "      <td>1.160890</td>\n",
       "      <td>0.712168</td>\n",
       "      <td>0.414150</td>\n",
       "    </tr>\n",
       "    <tr>\n",
       "      <th>2638</th>\n",
       "      <td>1.162779</td>\n",
       "      <td>0.712355</td>\n",
       "      <td>0.414178</td>\n",
       "    </tr>\n",
       "    <tr>\n",
       "      <th>2639</th>\n",
       "      <td>1.166062</td>\n",
       "      <td>0.712681</td>\n",
       "      <td>0.414226</td>\n",
       "    </tr>\n",
       "    <tr>\n",
       "      <th>2640</th>\n",
       "      <td>1.179407</td>\n",
       "      <td>0.714004</td>\n",
       "      <td>0.414420</td>\n",
       "    </tr>\n",
       "    <tr>\n",
       "      <th>2641</th>\n",
       "      <td>1.194960</td>\n",
       "      <td>0.715547</td>\n",
       "      <td>0.414647</td>\n",
       "    </tr>\n",
       "  </tbody>\n",
       "</table>\n",
       "<p>2201 rows × 3 columns</p>\n",
       "</div>"
      ],
      "text/plain": [
       "      5_kurt_total_ips_origem  5_skw_total_ips_destino  \\\n",
       "441                  0.372685                 0.593216   \n",
       "442                  0.378977                 0.594587   \n",
       "443                  0.372892                 0.593261   \n",
       "444                  0.379147                 0.594624   \n",
       "445                  0.376692                 0.594089   \n",
       "...                       ...                      ...   \n",
       "2637                 1.160890                 0.712168   \n",
       "2638                 1.162779                 0.712355   \n",
       "2639                 1.166062                 0.712681   \n",
       "2640                 1.179407                 0.714004   \n",
       "2641                 1.194960                 0.715547   \n",
       "\n",
       "      5_voefficient_variation_total_pacotes  \n",
       "441                                0.439798  \n",
       "442                                0.439207  \n",
       "443                                0.439778  \n",
       "444                                0.439191  \n",
       "445                                0.439421  \n",
       "...                                     ...  \n",
       "2637                               0.414150  \n",
       "2638                               0.414178  \n",
       "2639                               0.414226  \n",
       "2640                               0.414420  \n",
       "2641                               0.414647  \n",
       "\n",
       "[2201 rows x 3 columns]"
      ]
     },
     "execution_count": 6,
     "metadata": {},
     "output_type": "execute_result"
    }
   ],
   "source": [
    "Xtrain = x_train.values.reshape(x_train.shape[0], 1, x_train.shape[1])\n",
    "X_pred_train = loaded_model.predict(Xtrain)\n",
    "X_pred_train = pd.DataFrame(X_pred_train, columns=x_train.columns, index=x_train.index)\n",
    "X_pred_train.index = x_train.index\n",
    "X_pred_train"
   ]
  },
  {
   "cell_type": "code",
   "execution_count": 7,
   "metadata": {
    "colab": {
     "base_uri": "https://localhost:8080/",
     "height": 593
    },
    "id": "F9ckdZM5JcAj",
    "outputId": "8daefa94-5bbb-4f1e-aae4-8ec014282a31"
   },
   "outputs": [
    {
     "data": {
      "text/plain": [
       "Text(0.5, 1.0, 'Modelo de treinamento')"
      ]
     },
     "execution_count": 7,
     "metadata": {},
     "output_type": "execute_result"
    },
    {
     "data": {
      "image/png": "[encoded data removed]",
      "text/plain": [
       "<Figure size 1152x648 with 1 Axes>"
      ]
     },
     "metadata": {
      "needs_background": "light"
     },
     "output_type": "display_data"
    }
   ],
   "source": [
    "fig, ax = plt.subplots(figsize=(16, 9))\n",
    "\n",
    "for label in (ax.get_xticklabels() + ax.get_yticklabels()):\n",
    "\tlabel.set_fontsize(14)\n",
    "\n",
    "ax.plot(np.mean(np.abs(X_pred_train-x_train), axis=1), label='Custo')\n",
    "plt.xlabel(\"Tempo\", fontsize=18, labelpad=8.0)\n",
    "plt.ylabel(\"Custo de Reconstrução\", fontsize=18, labelpad=8.0)\n",
    "leg = ax.legend(prop={\"size\":14})\n",
    "\n",
    "plt.title(\"Modelo de treinamento\", fontsize=18)"
   ]
  },
  {
   "cell_type": "code",
   "execution_count": 8,
   "metadata": {
    "colab": {
     "base_uri": "https://localhost:8080/",
     "height": 538
    },
    "id": "PHc0rrq7Jwob",
    "outputId": "53f7189d-72e0-4f41-9483-b749a30e06a7"
   },
   "outputs": [],
   "source": [
    "# scored_train = pd.DataFrame()\n",
    "# scored_train['Loss_mae'] = np.mean(np.abs(X_pred_train-x_train), axis = 1)\n",
    "\n",
    "# plt.figure(figsize=(10,6), dpi=80)\n",
    "# plt.title('Distribuição do Custo de Reconstrução', fontsize=22)\n",
    "# sns.distplot(scored_train['Loss_mae'], bins = 50, kde=True, color = 'navy')\n",
    "# sns.set(font_scale=1.4)\n",
    "# plt.xlim([0.0,0.7])\n",
    "# plt.xlabel(\"Reconstruction Cost\", fontsize=18, labelpad=8.0)\n",
    "# plt.ylabel(\"Density\", fontsize=18, labelpad=8.0)"
   ]
  },
  {
   "cell_type": "markdown",
   "metadata": {
    "id": "3Tu3CjIUG6ZX"
   },
   "source": [
    "### TEST"
   ]
  },
  {
   "cell_type": "code",
   "execution_count": 9,
   "metadata": {
    "id": "H9sMOfraKuM1"
   },
   "outputs": [
    {
     "name": "stdout",
     "output_type": "stream",
     "text": [
      "94/94 [==============================] - 0s 4ms/step\n"
     ]
    },
    {
     "data": {
      "text/html": [
       "<div>\n",
       "<style scoped>\n",
       "    .dataframe tbody tr th:only-of-type {\n",
       "        vertical-align: middle;\n",
       "    }\n",
       "\n",
       "    .dataframe tbody tr th {\n",
       "        vertical-align: top;\n",
       "    }\n",
       "\n",
       "    .dataframe thead th {\n",
       "        text-align: right;\n",
       "    }\n",
       "</style>\n",
       "<table border=\"1\" class=\"dataframe\">\n",
       "  <thead>\n",
       "    <tr style=\"text-align: right;\">\n",
       "      <th></th>\n",
       "      <th>Loss_mae</th>\n",
       "      <th>Anomaly</th>\n",
       "      <th>label</th>\n",
       "    </tr>\n",
       "  </thead>\n",
       "  <tbody>\n",
       "    <tr>\n",
       "      <th>2642</th>\n",
       "      <td>0.137478</td>\n",
       "      <td>False</td>\n",
       "      <td>0</td>\n",
       "    </tr>\n",
       "    <tr>\n",
       "      <th>2643</th>\n",
       "      <td>0.136494</td>\n",
       "      <td>False</td>\n",
       "      <td>0</td>\n",
       "    </tr>\n",
       "    <tr>\n",
       "      <th>2644</th>\n",
       "      <td>0.133521</td>\n",
       "      <td>False</td>\n",
       "      <td>0</td>\n",
       "    </tr>\n",
       "    <tr>\n",
       "      <th>2645</th>\n",
       "      <td>0.131504</td>\n",
       "      <td>False</td>\n",
       "      <td>0</td>\n",
       "    </tr>\n",
       "    <tr>\n",
       "      <th>2646</th>\n",
       "      <td>0.132505</td>\n",
       "      <td>False</td>\n",
       "      <td>0</td>\n",
       "    </tr>\n",
       "    <tr>\n",
       "      <th>...</th>\n",
       "      <td>...</td>\n",
       "      <td>...</td>\n",
       "      <td>...</td>\n",
       "    </tr>\n",
       "    <tr>\n",
       "      <th>5627</th>\n",
       "      <td>0.061111</td>\n",
       "      <td>False</td>\n",
       "      <td>0</td>\n",
       "    </tr>\n",
       "    <tr>\n",
       "      <th>5628</th>\n",
       "      <td>0.060851</td>\n",
       "      <td>False</td>\n",
       "      <td>0</td>\n",
       "    </tr>\n",
       "    <tr>\n",
       "      <th>5629</th>\n",
       "      <td>0.057625</td>\n",
       "      <td>False</td>\n",
       "      <td>0</td>\n",
       "    </tr>\n",
       "    <tr>\n",
       "      <th>5630</th>\n",
       "      <td>0.057241</td>\n",
       "      <td>False</td>\n",
       "      <td>0</td>\n",
       "    </tr>\n",
       "    <tr>\n",
       "      <th>5631</th>\n",
       "      <td>0.057577</td>\n",
       "      <td>False</td>\n",
       "      <td>0</td>\n",
       "    </tr>\n",
       "  </tbody>\n",
       "</table>\n",
       "<p>2990 rows × 3 columns</p>\n",
       "</div>"
      ],
      "text/plain": [
       "      Loss_mae  Anomaly  label\n",
       "2642  0.137478    False      0\n",
       "2643  0.136494    False      0\n",
       "2644  0.133521    False      0\n",
       "2645  0.131504    False      0\n",
       "2646  0.132505    False      0\n",
       "...        ...      ...    ...\n",
       "5627  0.061111    False      0\n",
       "5628  0.060851    False      0\n",
       "5629  0.057625    False      0\n",
       "5630  0.057241    False      0\n",
       "5631  0.057577    False      0\n",
       "\n",
       "[2990 rows x 3 columns]"
      ]
     },
     "execution_count": 9,
     "metadata": {},
     "output_type": "execute_result"
    }
   ],
   "source": [
    "threshold = 4.75\n",
    "\n",
    "Xtest = x_test.values.reshape(x_test.shape[0], 1, x_test.shape[1])\n",
    "X_pred_test = loaded_model.predict(Xtest)\n",
    "X_pred_test = pd.DataFrame(X_pred_test, columns=x_test.columns)\n",
    "\n",
    "scored_test = pd.DataFrame()\n",
    "Xtest = Xtest.reshape(Xtest.shape[0], Xtest.shape[2])\n",
    "scored_test['Loss_mae'] = np.mean(np.abs(X_pred_test-Xtest), axis = 1)\n",
    "scored_test['Anomaly'] = scored_test['Loss_mae'] > threshold\n",
    "\n",
    "concatenated = scored_test.copy()\n",
    "concatenated.index = y_test.index\n",
    "concatenated['label'] = y_test\n",
    "concatenated['label'] = concatenated['label'].astype(int)\n",
    "concatenated"
   ]
  },
  {
   "cell_type": "code",
   "execution_count": 10,
   "metadata": {
    "id": "xLHf4IO3OY9Y"
   },
   "outputs": [
    {
     "name": "stdout",
     "output_type": "stream",
     "text": [
      "[[2930   20]\n",
      " [  39    1]]\n",
      "              precision    recall  f1-score   support\n",
      "\n",
      "           0     0.9869    0.9932    0.9900      2950\n",
      "           1     0.0476    0.0250    0.0328        40\n",
      "\n",
      "    accuracy                         0.9803      2990\n",
      "   macro avg     0.5172    0.5091    0.5114      2990\n",
      "weighted avg     0.9743    0.9803    0.9772      2990\n",
      "\n"
     ]
    }
   ],
   "source": [
    "xticklabels=['Normal', 'Anomalia'] \n",
    "yticklabels=['Normal', 'Anomalia']\n",
    "# cm = confusion_matrix(concatenated['label'], concatenated['Anomaly'])\n",
    "# s = sns.heatmap(cm, annot=True, fmt='d', xticklabels=xticklabels, yticklabels=yticklabels)\n",
    "# s.set(xlabel='Valor Predito', ylabel='Valor Real', title=f\"Threshold {threshold}\")\n",
    "from sklearn.metrics import classification_report\n",
    "from sklearn.metrics import confusion_matrix\n",
    "print(confusion_matrix(concatenated[\"label\"], concatenated[\"Anomaly\"]))\n",
    "print(classification_report(concatenated[\"label\"], concatenated[\"Anomaly\"], digits=4))"
   ]
  },
  {
   "cell_type": "code",
   "execution_count": null,
   "metadata": {
    "colab": {
     "base_uri": "https://localhost:8080/",
     "height": 610
    },
    "id": "qQKun3dgQBnO",
    "outputId": "bf19842e-1f2a-4c23-9e82-d3ffa1379c73"
   },
   "outputs": [],
   "source": [
    "fig, ax = plt.subplots(figsize=(16, 9))\n",
    "#plt.style.use('classic')\n",
    "\n",
    "fsize = 33\n",
    "\n",
    "for label in (ax.get_xticklabels() + ax.get_yticklabels()):\n",
    "\tlabel.set_fontsize(14)\n",
    "\n",
    "erro = [np.nan] * train\n",
    "erro.extend(np.mean(np.abs(X_pred_test-Xtest), axis=1))\n",
    "\n",
    "ax.plot(erro, linewidth=4, label='Custo de Reconstrução')\n",
    "\n",
    "plt.axhline(y=threshold, linewidth=4, color=\"r\", linestyle=\"--\", label=\"Limiar (4,75)\")\n",
    "\n",
    "plt.xticks(fontsize=fsize)\n",
    "plt.yticks(fontsize=fsize)\n",
    "plt.xlabel(\"Tempo (s)\", fontsize=fsize, labelpad=8.0)\n",
    "plt.ylabel(\"MAE\", fontsize=fsize, labelpad=8.0)\n",
    "plt.legend(fontsize=fsize-11, loc=\"center right\", framealpha=1)\n",
    "\n",
    "plt.savefig(\"custo51.pdf\", pad_inches=0, bbox_inches='tight', transparent=True)"
   ]
  }
 ],
 "metadata": {
  "accelerator": "GPU",
  "colab": {
   "provenance": []
  },
  "gpuClass": "premium",
  "kernelspec": {
   "display_name": "Python 3 (ipykernel)",
   "language": "python",
   "name": "python3"
  },
  "language_info": {
   "codemirror_mode": {
    "name": "ipython",
    "version": 3
   },
   "file_extension": ".py",
   "mimetype": "text/x-python",
   "name": "python",
   "nbconvert_exporter": "python",
   "pygments_lexer": "ipython3",
   "version": "3.10.12"
  }
 },
 "nbformat": 4,
 "nbformat_minor": 1
}
