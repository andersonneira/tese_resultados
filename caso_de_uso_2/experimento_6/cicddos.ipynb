{
 "cells": [
  {
   "cell_type": "markdown",
   "id": "4e3c91ac",
   "metadata": {
    "id": "4e3c91ac"
   },
   "source": [
    "#Importação de bibliotecas e funções"
   ]
  },
  {
   "cell_type": "code",
   "execution_count": 2,
   "id": "bno-wuuaqwpX",
   "metadata": {
    "id": "bno-wuuaqwpX"
   },
   "outputs": [
    {
     "name": "stderr",
     "output_type": "stream",
     "text": [
      "/usr/lib/python3/dist-packages/scipy/__init__.py:146: UserWarning: A NumPy version >=1.17.3 and <1.25.0 is required for this version of SciPy (detected version 1.26.1\n",
      "  warnings.warn(f\"A NumPy version >={np_minversion} and <{np_maxversion}\"\n"
     ]
    }
   ],
   "source": [
    "from sklearn.svm import OneClassSVM\n",
    "from sklearn.metrics import confusion_matrix\n",
    "import pandas as pd\n",
    "from matplotlib import pyplot as plt\n",
    "from sklearn.metrics import classification_report"
   ]
  },
  {
   "cell_type": "code",
   "execution_count": null,
   "id": "ea64b5d1",
   "metadata": {},
   "outputs": [],
   "source": [
    "#Experimento 6 CICDDOS"
   ]
  },
  {
   "cell_type": "code",
   "execution_count": 3,
   "id": "9817767a",
   "metadata": {},
   "outputs": [
    {
     "name": "stdout",
     "output_type": "stream",
     "text": [
      "[[674  28]\n",
      " [105   3]]\n",
      "              precision    recall  f1-score   support\n",
      "\n",
      "           0     0.8652    0.9601    0.9102       702\n",
      "           1     0.0968    0.0278    0.0432       108\n",
      "\n",
      "    accuracy                         0.8358       810\n",
      "   macro avg     0.4810    0.4939    0.4767       810\n",
      "weighted avg     0.7628    0.8358    0.7946       810\n",
      "\n"
     ]
    }
   ],
   "source": [
    "early_warning_url = \"cicddos_outlier_10.csv\"\n",
    "early_warning = pd.read_csv(early_warning_url, sep=\";\")\n",
    "file = \"10\"\n",
    "colunas = [file+'_kurt_total_ips_origem',\n",
    "           file+'_skw_total_ips_origem',\n",
    "           file+'_coefficient_variation_total_ips_origem',\n",
    "           file+'_kurt_total_ips_destino',\n",
    "           file+'_skw_total_ips_destino',\n",
    "           file+'_coefficient_variation_total_ips_destino',\n",
    "           file+'_kurt_total_pacotes',\n",
    "           file+'_skw_total_pacotes',\n",
    "           file+'_coefficient_variation_total_pacotes']\n",
    "\n",
    "df = early_warning[colunas]\n",
    "label = pd.read_csv('ciclabel.csv')['maior_2']\n",
    "\n",
    "init = 202\n",
    "train = 674\n",
    "end = 1484\n",
    "x_train = df[init:train]\n",
    "x_test = df[train:end]\n",
    "y_real = label[train:end]\n",
    "\n",
    "clf = OneClassSVM(gamma='auto',kernel='poly', nu = 0.13).fit(x_train)\n",
    "\n",
    "y_test = clf.predict(x_test)\n",
    "y_test_final = [0 if i == 1 else 1 for i in y_test]\n",
    "print(confusion_matrix(y_real, y_test_final))\n",
    "print(classification_report(y_real, y_test_final, digits = 4))"
   ]
  },
  {
   "cell_type": "code",
   "execution_count": 4,
   "id": "f4c85ea6",
   "metadata": {},
   "outputs": [
    {
     "name": "stdout",
     "output_type": "stream",
     "text": [
      "917\n",
      "918\n",
      "921\n"
     ]
    }
   ],
   "source": [
    "for i in range(674, 674+len(y_real)):\n",
    "    if((y_real[i] == y_test_final[i-674]) and y_real[i] ==1):\n",
    "        print(i)"
   ]
  },
  {
   "cell_type": "code",
   "execution_count": null,
   "id": "a8501150",
   "metadata": {},
   "outputs": [],
   "source": []
  }
 ],
 "metadata": {
  "colab": {
   "provenance": []
  },
  "kernelspec": {
   "display_name": "Python 3 (ipykernel)",
   "language": "python",
   "name": "python3"
  },
  "language_info": {
   "codemirror_mode": {
    "name": "ipython",
    "version": 3
   },
   "file_extension": ".py",
   "mimetype": "text/x-python",
   "name": "python",
   "nbconvert_exporter": "python",
   "pygments_lexer": "ipython3",
   "version": "3.10.12"
  }
 },
 "nbformat": 4,
 "nbformat_minor": 5
}
