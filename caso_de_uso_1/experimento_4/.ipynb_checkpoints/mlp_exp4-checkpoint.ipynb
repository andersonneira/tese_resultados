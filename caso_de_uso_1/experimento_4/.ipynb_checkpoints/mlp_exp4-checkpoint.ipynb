{
 "cells": [
  {
   "cell_type": "code",
   "execution_count": 1,
   "metadata": {},
   "outputs": [],
   "source": [
    "#!/usr/bin/python\n",
    "# -*- encoding: iso-8859-1 -*-"
   ]
  },
  {
   "cell_type": "code",
   "execution_count": 2,
   "metadata": {},
   "outputs": [],
   "source": [
    "import pandas\n",
    "from sklearn.neural_network import MLPClassifier\n",
    "from sklearn.metrics import classification_report\n",
    "from sklearn.metrics import confusion_matrix"
   ]
  },
  {
   "cell_type": "code",
   "execution_count": 3,
   "metadata": {},
   "outputs": [],
   "source": [
    "x_train = pandas.read_csv(\"train-final.csv\", usecols=lambda x: x != \"label\")\n",
    "y_train = pandas.read_csv(\"train-final.csv\", usecols=[\"label\"])\n",
    "x_test = pandas.read_csv(\"test-final.csv\", usecols=lambda x: x != \"label\")\n",
    "y_test = pandas.read_csv(\"test-final.csv\", usecols=[\"label\"])"
   ]
  },
  {
   "cell_type": "code",
   "execution_count": 4,
   "metadata": {},
   "outputs": [
    {
     "name": "stderr",
     "output_type": "stream",
     "text": [
      "/home/anderson/.local/lib/python3.10/site-packages/sklearn/utils/validation.py:63: DataConversionWarning: A column-vector y was passed when a 1d array was expected. Please change the shape of y to (n_samples, ), for example using ravel().\n",
      "  return f(*args, **kwargs)\n"
     ]
    },
    {
     "name": "stdout",
     "output_type": "stream",
     "text": [
      "[[1254    2]\n",
      " [   3    1]]\n",
      "              precision    recall  f1-score   support\n",
      "\n",
      "           0     0.9976    0.9984    0.9980      1256\n",
      "           1     0.3333    0.2500    0.2857         4\n",
      "\n",
      "    accuracy                         0.9960      1260\n",
      "   macro avg     0.6655    0.6242    0.6419      1260\n",
      "weighted avg     0.9955    0.9960    0.9957      1260\n",
      "\n"
     ]
    }
   ],
   "source": [
    "classifier = MLPClassifier( solver='lbfgs',hidden_layer_sizes=(33, 17, 11), random_state=0)\n",
    "classifier.fit(x_train, y_train)\n",
    "y_pred_test = classifier.predict(x_test)\n",
    "print(confusion_matrix(y_test, y_pred_test))\n",
    "print(classification_report(y_test, y_pred_test, digits=4))"
   ]
  }
 ],
 "metadata": {
  "kernelspec": {
   "display_name": "Python 3 (ipykernel)",
   "language": "python",
   "name": "python3"
  },
  "language_info": {
   "codemirror_mode": {
    "name": "ipython",
    "version": 3
   },
   "file_extension": ".py",
   "mimetype": "text/x-python",
   "name": "python",
   "nbconvert_exporter": "python",
   "pygments_lexer": "ipython3",
   "version": "3.10.12"
  }
 },
 "nbformat": 4,
 "nbformat_minor": 2
}
